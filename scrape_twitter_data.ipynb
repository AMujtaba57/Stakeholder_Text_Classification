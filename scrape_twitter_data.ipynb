{
 "cells": [
  {
   "cell_type": "code",
   "execution_count": 16,
   "metadata": {},
   "outputs": [],
   "source": [
    "import numpy as np\n",
    "import pandas as pd \n",
    "import os, re\n",
    "import selenium\n",
    "from selenium import webdriver\n",
    "import time\n",
    "from PIL import Image\n",
    "import io\n",
    "import requests\n",
    "from webdriver_manager.chrome import ChromeDriverManager\n",
    "from selenium.common.exceptions import ElementClickInterceptedException\n",
    "from selenium.webdriver.support.ui import WebDriverWait\n",
    "from selenium.webdriver.support import expected_conditions as EC\n",
    "from selenium.webdriver.common.by import By\n",
    "\n",
    "from selenium.common.exceptions import NoSuchElementException\n",
    "from selenium.common.exceptions import StaleElementReferenceException\n",
    "\n",
    "from googletrans import Translator\n",
    "from langdetect import detect"
   ]
  },
  {
   "cell_type": "code",
   "execution_count": 7,
   "metadata": {},
   "outputs": [],
   "source": [
    "username = '@ManzoorPashteen'"
   ]
  },
  {
   "cell_type": "code",
   "execution_count": 8,
   "metadata": {},
   "outputs": [
    {
     "name": "stderr",
     "output_type": "stream",
     "text": [
      "C:\\Users\\Ahmad Mujtaba\\AppData\\Local\\Temp\\ipykernel_5884\\894981958.py:1: DeprecationWarning: executable_path has been deprecated, please pass in a Service object\n",
      "  driver = webdriver.Chrome(ChromeDriverManager().install())\n"
     ]
    }
   ],
   "source": [
    "driver = webdriver.Chrome(ChromeDriverManager().install())\n",
    "search_url=f\"https://twitter.com/{username}\" \n",
    "                \n",
    "driver.get(search_url.format())"
   ]
  },
  {
   "cell_type": "code",
   "execution_count": 9,
   "metadata": {},
   "outputs": [],
   "source": [
    "tweet_list = []"
   ]
  },
  {
   "cell_type": "code",
   "execution_count": 10,
   "metadata": {},
   "outputs": [
    {
     "name": "stdout",
     "output_type": "stream",
     "text": [
      "7 17 29 44 60 76 91 105 119 133 146 157 167 179 191 202 214 226 238 252 265 277 287 297 307 318 328 339 352 366 380 392 402 415 429 442 455 468 482 495 508 520 532 545 559 571 583 596 609 620 634 647 660 673 686 699 712 725 737 749 760 771 782 794 806 818 829 842 854 866 877 888 900 912 923 934 947 962 977 992 1007 1023 1039 1053 1064 1078 1093 1107 1121 1135 1149 1163 1177 1191 1204 1217 1229 1239 1248 1257 1267 1275 1284 1292 1303 1315 1328 1339 1350 1362 1373 1384 1395 1406 1417 1429 1442 1453 1465 1476 1486 1494 1507 1520 1532 1545 1557 1568 1578 1589 1602 1617 1630 1645 1661 1676 1689 1701 1711 1720 1731 1743 1755 1769 1783 1796 1811 1825 1839 1853 1867 1881 1896 1910 1923 1937 1951 1965 1977 1992 2007 2021 2035 2050 2065 2081 2097 2114 2131 2148 2163 2177 2191 2205 2218 2231 2242 2255 2268 2281 2294 2306 2317 2328 2339 2352 2365 2378 2392 2408 2424 2440 2455 2470 2484 2497 2508 2521 2534 2548 2562 2577 2592 2607 2622 2638 2653 2668 2682 2697 2712 2727 2741 2753 2764 2778 2791 2803 2816 2829 2841 2857 2873 2890 2906 2922 2938 2955 2972 2986 3000 3014 3027 3036 3050 3062 3074 3087 3100 3112 3125 3139 3152 3164 3175 3186 3197 3209 3221 3231 3241 3254 3266 3278 3290 3302 3314 3326 3338 3350 3362 3374 3387 3400 3414 3428 3442 3455 3466 3480 3494 3507 3520 3533 3546 3560 3573 3586 3599 3612 3626 3639 3653 3666 3679 3694 3708 3720 3730 3744 3758 3771 3783 3795 3807 3820 3833 3845 3857 3870 3882 3894 3907 3919 3931 3943 3954 3963 3974 3985 3997 4010 4023 4035 4047 4060 4073 4085 4097 4109 4122 4135 4149 4164 4178 4190 4206 4221 4237 4252 4267 4281 4297 4313 4330 4347 4364 4380 4398 4413 4428 4441 4454 4469 4481 4491 4504 4518 4531 4544 4557 4570 4582 4593 4604 4616 4628 4639 4650 4662 4673 4683 4693 4703 4713 4724 4734 4743 4756 4770 4785 4799 4814 4828 4841 4854 4868 4880 4892 4904 4915 4927 4939 4953 4966 4979 4991 5001 5014 5027 5040 5054 5068 5082 5095 5108 5121 5132 5143 5154 5165 5177 5189 5201 5210 5217 5223 5229 5235 5241 5247 5253 5259 5265 5271 5277 5283 5289 5295 5301 5307 5313 5319 5325 5331 5337 5343 5349 5355 5361 5367 5373 5379 5385 5391 5397 5403 5409 5415 5421 5427 5433 5439 5445 5451 5457 5463 5469 5475 5481 5487 5493 5499 5505 5511 5517 5523 5529 5535 5541 5547 5553 5559 5565 5571 5577 5583 5589 5595 5601 5607 5613 5619 5625 5631 5637 5643 5649 5655 5661 5667 5673 5679 5685 5691 5697 5703 5709 5715 5721 5727 5733 5739 5745 5751 5757 5763 5769 5775 5781 5787 5793 5799 5805 5811 5817 5823 5829 5835 5841 5847 5853 5859 5865 5871 5877 5883 5889 5895 5901 5907 5913 5919 5925 5931 5937 5943 5949 5955 5961 5967 5973 5979 5985 5991 5997 6003 6009 6015 6021 6027 6033 6039 6045 6051 6057 6063 6069 6075 6081 6087 6093 6099 6105 6111 6117 6123 6129 6135 6141 6147 6153 6159 6165 6171 6177 6183 6189 6195 6201 6207 6213 6219 6225 6231 6237 6243 6249 6255 6261 6267 6273 6279 6285 6291 6297 6303 6309 6315 6321 6327 6333 6339 6345 6351 6357 6363 6369 6375 6381 6387 6393 6399 6405 6411 6417 6423 6429 6435 6441 6447 6453 6459 6465 6471 6477 6483 6489 6495 6501 6507 6513 6519 6525 6531 6537 6543 6549 6555 6561 6567 6573 6579 6585 6591 6597 6603 6609 6615 6621 6627 6633 6639 6645 6651 6657 6663 6669 6675 6681 6687 6693 6699 6705 6711 6717 6723 6729 6735 6741 6747 6753 6759 6765 6771 6777 6783 6789 6795 6801 6807 6813 6819 6825 6831 6837 6843 6849 6855 6861 6867 6873 6879 6885 6891 6897 6903 6909 6915 6921 6927 6933 6939 6945 6951 6957 6963 6969 6975 6981 6987 6993 6999 7005 7011 7017 7023 7029 7035 7041 7047 7053 7059 7065 7071 7077 7083 7089 7095 7101 7107 7113 7119 7125 7131 7137 7143 7149 7155 7161 7167 7173 7179 7185 7191 7197 7203 7209 7215 7221 7227 7233 7239 7245 7251 7257 7263 7269 7275 7281 7287 7293 7299 7305 7311 7317 7323 7329 7335 7341 7347 7353 7359 7365 7371 7377 7383 7389 7395 7401 7407 7413 7419 7425 7431 7437 7443 7449 7455 7461 7467 7473 7479 7485 7491 7497 7503 7509 7515 7521 7527 7533 7539 7545 7551 7557 7563 7569 7575 7581 7587 7593 7599 7605 7611 7617 7623 7629 7635 7641 7647 7653 7659 7665 7671 7677 7683 7689 7695 7701 7707 7713 7719 7725 7731 7737 7743 7749 7755 7761 7767 7773 7779 7785 7791 7797 7803 7809 7815 7821 7827 7833 7839 7845 7851 7857 7863 7869 7875 7881 7887 7893 7899 7905 7911 7917 7923 7929 7935 7941 7947 7953 7959 7965 7971 7977 7983 7989 7995 8001 8007 8013 8019 8025 8031 8037 8043 8049 8055 8061 8067 8073 8079 8085 8091 8097 8103 8109 8115 8121 8127 8133 8139 8145 8151 8157 8163 8169 8175 8181 8187 8193 8199 8205 8211 8217 8223 8229 8235 8241 8247 8253 8259 8265 8271 8277 8283 8289 8295 8301 8307 8313 8319 8325 8331 8337 8343 8349 8355 8361 8367 8373 8379 8385 8391 8397 8403 8409 8415 8421 8427 8433 8439 8445 8451 8457 8463 8469 8475 8481 8487 8493 8499 8505 8511 8517 8523 8529 8535 8541 8547 8553 8559 8565 8571 8577 8583 8589 8595 8601 8607 8613 8619 8625 8631 8637 8643 8649 8655 8661 8667 8673 8679 8685 8691 8697 8703 8709 8715 8721 8727 8733 8739 8745 8751 8757 8763 8769 8775 8781 8787 8793 8799 8805 8811 8817 8823 8829 8835 8841 8847 8853 8859 8865 8871 8877 8883 8889 8895 8901 8907 8913 8919 8925 8931 8937 8943 8949 8955 8961 8967 8973 8979 8985 8991 8997 9003 9009 9015 9021 9027 9033 9039 9045 9051 9057 9063 9069 9075 9081 9087 9093 9099 9105 9111 9117 9123 9129 9135 9141 9147 9153 9159 9165 9171 9177 9183 9189 9195 9201 9207 9213 9219 9225 9231 9237 9243 9249 9255 9261 9267 9273 9279 9285 9291 9297 9303 9309 9315 9321 9327 9333 9339 9345 9351 9357 9363 9369 9375 9381 9387 9393 9399 9405 9411 9417 9423 9429 9435 9441 9447 9453 9459 9465 9471 9477 9483 9489 9495 9501 9507 9513 9519 9525 9531 9537 9543 9549 9555 9561 9567 9573 9579 9585 9591 9597 9603 9609 9615 9621 9627 9633 9639 9645 9651 9657 9663 9669 9675 9681 9687 9693 9699 9705 9711 9717 9723 9729 9735 9741 9747 9753 9759 9765 9771 9777 9783 9789 9795 9801 9807 9813 9819 9825 9831 9837 9843 9849 9855 9861 9867 9873 9879 9885 9891 9897 9903 9909 9915 9921 9927 9933 9939 9945 9951 9957 9963 9969 9975 9981 9987 9993 9999 10005 10005\n",
      "758\n"
     ]
    },
    {
     "data": {
      "text/html": [
       "<div>\n",
       "<style scoped>\n",
       "    .dataframe tbody tr th:only-of-type {\n",
       "        vertical-align: middle;\n",
       "    }\n",
       "\n",
       "    .dataframe tbody tr th {\n",
       "        vertical-align: top;\n",
       "    }\n",
       "\n",
       "    .dataframe thead th {\n",
       "        text-align: right;\n",
       "    }\n",
       "</style>\n",
       "<table border=\"1\" class=\"dataframe\">\n",
       "  <thead>\n",
       "    <tr style=\"text-align: right;\">\n",
       "      <th></th>\n",
       "      <th>Tweets</th>\n",
       "      <th>label</th>\n",
       "    </tr>\n",
       "  </thead>\n",
       "  <tbody>\n",
       "    <tr>\n",
       "      <th>0</th>\n",
       "      <td></td>\n",
       "      <td>army</td>\n",
       "    </tr>\n",
       "    <tr>\n",
       "      <th>1</th>\n",
       "      <td>On allegations of being foreign funded by RAW ...</td>\n",
       "      <td>army</td>\n",
       "    </tr>\n",
       "    <tr>\n",
       "      <th>2</th>\n",
       "      <td>Manzoor Pashteen challenging army officials to...</td>\n",
       "      <td>army</td>\n",
       "    </tr>\n",
       "    <tr>\n",
       "      <th>3</th>\n",
       "      <td>@ManzoorPashteen\\n</td>\n",
       "      <td>army</td>\n",
       "    </tr>\n",
       "    <tr>\n",
       "      <th>4</th>\n",
       "      <td>ایم کیو ایم کے لاپتہ کارکنوں کی لاشیں برآمد: ’...</td>\n",
       "      <td>army</td>\n",
       "    </tr>\n",
       "  </tbody>\n",
       "</table>\n",
       "</div>"
      ],
      "text/plain": [
       "                                              Tweets label\n",
       "0                                                     army\n",
       "1  On allegations of being foreign funded by RAW ...  army\n",
       "2  Manzoor Pashteen challenging army officials to...  army\n",
       "3                                @ManzoorPashteen\\n   army\n",
       "4  ایم کیو ایم کے لاپتہ کارکنوں کی لاشیں برآمد: ’...  army"
      ]
     },
     "execution_count": 10,
     "metadata": {},
     "output_type": "execute_result"
    }
   ],
   "source": [
    "tweets_collected = 0\n",
    "start=0\n",
    "end=500\n",
    "\n",
    "ignored_exceptions = (NoSuchElementException,StaleElementReferenceException,)\n",
    "while len(tweet_list) < 10000:\n",
    "    driver.execute_script(f\"window.scrollTo({start}, {end});\")\n",
    "    time.sleep(1)\n",
    "    try:\n",
    "        WebDriverWait(driver, 10, ignored_exceptions=ignored_exceptions).until(EC.presence_of_element_located((By.CSS_SELECTOR, \"div[data-testid=tweetText]\")))\n",
    "    except:\n",
    "        break\n",
    "    \n",
    "    new_tweets = driver.find_elements(By.CSS_SELECTOR, \"div[data-testid=tweetText]\")\n",
    "    \n",
    "    try: \n",
    "        for tweet in new_tweets:\n",
    "            tweet_list.append(tweet.text)\n",
    "    except:\n",
    "        pass\n",
    "\n",
    "    print(len(tweet_list), end=\" \")\n",
    "    \n",
    "    start += end\n",
    "    end += 500\n",
    "\n",
    "driver.quit()\n",
    "\n",
    "unique_tweet = list(set(tweet_list))\n",
    "print(len(tweet_list))\n",
    "print(len(unique_tweet))\n",
    "\n",
    "\n",
    "df = pd.DataFrame(unique_tweet, columns=['Tweets'])\n",
    "df['label'] = [\"army\" for _ in range(len(df['Tweets']))]\n",
    "df.to_csv(f\"dataset/{username}_{len(df)}.csv\")\n",
    "df.head(5)"
   ]
  }
 ],
 "metadata": {
  "kernelspec": {
   "display_name": "Python 3.8.10 ('venv': venv)",
   "language": "python",
   "name": "python3"
  },
  "language_info": {
   "codemirror_mode": {
    "name": "ipython",
    "version": 3
   },
   "file_extension": ".py",
   "mimetype": "text/x-python",
   "name": "python",
   "nbconvert_exporter": "python",
   "pygments_lexer": "ipython3",
   "version": "3.10.10"
  },
  "orig_nbformat": 4,
  "vscode": {
   "interpreter": {
    "hash": "c97f2aad5e35890bd3438119de8bb2ef980c870fb1eb8a72f341b79edfbd802e"
   }
  }
 },
 "nbformat": 4,
 "nbformat_minor": 2
}
